{
 "cells": [
  {
   "cell_type": "code",
   "execution_count": 3,
   "metadata": {
    "collapsed": true
   },
   "outputs": [],
   "source": [
    "import pandas as pd\n",
    "import numpy as np\n",
    "from matplotlib import pyplot as plt\n",
    "import seaborn as sns\n",
    "from pymatgen import Structure, Lattice\n",
    "from pymatgen.core import periodic_table\n",
    "from pymatgen.analysis import ewald\n",
    "%run read_struct_get_ewald.ipynb\n",
    "%run read_struct_get_bond.ipynb\n",
    "%run read_struct_get_coordination.ipynb\n",
    "%run read_struct_get_coulomb.ipynb\n",
    "from sklearn.ensemble import RandomForestRegressor, GradientBoostingRegressor\n",
    "from sklearn.model_selection import ShuffleSplit, cross_val_score, train_test_split\n",
    "from sklearn.preprocessing import Imputer"
   ]
  },
  {
   "cell_type": "markdown",
   "metadata": {},
   "source": [
    "# Machine Learing"
   ]
  },
  {
   "cell_type": "code",
   "execution_count": 3,
   "metadata": {
    "collapsed": true
   },
   "outputs": [],
   "source": [
    "train = pd.read_csv('train5.csv')\n",
    "test = pd.read_csv('test5.csv')"
   ]
  },
  {
   "cell_type": "code",
   "execution_count": 342,
   "metadata": {},
   "outputs": [
    {
     "data": {
      "text/html": [
       "<div>\n",
       "<style>\n",
       "    .dataframe thead tr:only-child th {\n",
       "        text-align: right;\n",
       "    }\n",
       "\n",
       "    .dataframe thead th {\n",
       "        text-align: left;\n",
       "    }\n",
       "\n",
       "    .dataframe tbody tr th {\n",
       "        vertical-align: top;\n",
       "    }\n",
       "</style>\n",
       "<table border=\"1\" class=\"dataframe\">\n",
       "  <thead>\n",
       "    <tr style=\"text-align: right;\">\n",
       "      <th></th>\n",
       "      <th>id</th>\n",
       "      <th>spacegroup</th>\n",
       "      <th>number_of_total_atoms</th>\n",
       "      <th>percent_atom_al</th>\n",
       "      <th>percent_atom_ga</th>\n",
       "      <th>percent_atom_in</th>\n",
       "      <th>lattice_vector_1_ang</th>\n",
       "      <th>lattice_vector_2_ang</th>\n",
       "      <th>lattice_vector_3_ang</th>\n",
       "      <th>lattice_angle_alpha_degree</th>\n",
       "      <th>...</th>\n",
       "      <th>cgain</th>\n",
       "      <th>rgain</th>\n",
       "      <th>cgao</th>\n",
       "      <th>rgao</th>\n",
       "      <th>calin</th>\n",
       "      <th>ralin</th>\n",
       "      <th>calo</th>\n",
       "      <th>ralo</th>\n",
       "      <th>cino</th>\n",
       "      <th>rino</th>\n",
       "    </tr>\n",
       "  </thead>\n",
       "  <tbody>\n",
       "    <tr>\n",
       "      <th>0</th>\n",
       "      <td>1</td>\n",
       "      <td>33</td>\n",
       "      <td>80.0</td>\n",
       "      <td>0.6250</td>\n",
       "      <td>0.3750</td>\n",
       "      <td>0.000</td>\n",
       "      <td>9.9523</td>\n",
       "      <td>8.5513</td>\n",
       "      <td>9.1775</td>\n",
       "      <td>90.0026</td>\n",
       "      <td>...</td>\n",
       "      <td>0.000000</td>\n",
       "      <td>inf</td>\n",
       "      <td>-68.138833</td>\n",
       "      <td>1.955995</td>\n",
       "      <td>0.000000</td>\n",
       "      <td>inf</td>\n",
       "      <td>-126.380141</td>\n",
       "      <td>1.953003</td>\n",
       "      <td>0.000000</td>\n",
       "      <td>inf</td>\n",
       "    </tr>\n",
       "    <tr>\n",
       "      <th>1</th>\n",
       "      <td>2</td>\n",
       "      <td>194</td>\n",
       "      <td>80.0</td>\n",
       "      <td>0.6250</td>\n",
       "      <td>0.3750</td>\n",
       "      <td>0.000</td>\n",
       "      <td>6.1840</td>\n",
       "      <td>6.1838</td>\n",
       "      <td>23.6287</td>\n",
       "      <td>90.0186</td>\n",
       "      <td>...</td>\n",
       "      <td>0.000000</td>\n",
       "      <td>inf</td>\n",
       "      <td>-74.347543</td>\n",
       "      <td>1.936593</td>\n",
       "      <td>0.000000</td>\n",
       "      <td>inf</td>\n",
       "      <td>-97.805858</td>\n",
       "      <td>1.959401</td>\n",
       "      <td>0.000000</td>\n",
       "      <td>inf</td>\n",
       "    </tr>\n",
       "    <tr>\n",
       "      <th>2</th>\n",
       "      <td>3</td>\n",
       "      <td>227</td>\n",
       "      <td>40.0</td>\n",
       "      <td>0.8125</td>\n",
       "      <td>0.1875</td>\n",
       "      <td>0.000</td>\n",
       "      <td>9.7510</td>\n",
       "      <td>5.6595</td>\n",
       "      <td>13.9630</td>\n",
       "      <td>90.9688</td>\n",
       "      <td>...</td>\n",
       "      <td>0.000000</td>\n",
       "      <td>inf</td>\n",
       "      <td>-13.810688</td>\n",
       "      <td>1.869581</td>\n",
       "      <td>0.000000</td>\n",
       "      <td>inf</td>\n",
       "      <td>-57.104462</td>\n",
       "      <td>1.947915</td>\n",
       "      <td>0.000000</td>\n",
       "      <td>inf</td>\n",
       "    </tr>\n",
       "    <tr>\n",
       "      <th>3</th>\n",
       "      <td>4</td>\n",
       "      <td>167</td>\n",
       "      <td>30.0</td>\n",
       "      <td>0.7500</td>\n",
       "      <td>0.0000</td>\n",
       "      <td>0.250</td>\n",
       "      <td>5.0036</td>\n",
       "      <td>5.0034</td>\n",
       "      <td>13.5318</td>\n",
       "      <td>89.9888</td>\n",
       "      <td>...</td>\n",
       "      <td>0.000000</td>\n",
       "      <td>inf</td>\n",
       "      <td>0.000000</td>\n",
       "      <td>inf</td>\n",
       "      <td>11.027235</td>\n",
       "      <td>3.316789</td>\n",
       "      <td>-42.805965</td>\n",
       "      <td>2.019747</td>\n",
       "      <td>-16.121344</td>\n",
       "      <td>2.026801</td>\n",
       "    </tr>\n",
       "    <tr>\n",
       "      <th>4</th>\n",
       "      <td>5</td>\n",
       "      <td>194</td>\n",
       "      <td>80.0</td>\n",
       "      <td>0.0000</td>\n",
       "      <td>0.6250</td>\n",
       "      <td>0.375</td>\n",
       "      <td>6.6614</td>\n",
       "      <td>6.6612</td>\n",
       "      <td>24.5813</td>\n",
       "      <td>89.9960</td>\n",
       "      <td>...</td>\n",
       "      <td>30.715613</td>\n",
       "      <td>3.556476</td>\n",
       "      <td>-111.422149</td>\n",
       "      <td>2.016436</td>\n",
       "      <td>0.000000</td>\n",
       "      <td>inf</td>\n",
       "      <td>0.000000</td>\n",
       "      <td>inf</td>\n",
       "      <td>-41.095532</td>\n",
       "      <td>2.195004</td>\n",
       "    </tr>\n",
       "  </tbody>\n",
       "</table>\n",
       "<p>5 rows × 76 columns</p>\n",
       "</div>"
      ],
      "text/plain": [
       "   id  spacegroup  number_of_total_atoms  percent_atom_al  percent_atom_ga  \\\n",
       "0   1          33                   80.0           0.6250           0.3750   \n",
       "1   2         194                   80.0           0.6250           0.3750   \n",
       "2   3         227                   40.0           0.8125           0.1875   \n",
       "3   4         167                   30.0           0.7500           0.0000   \n",
       "4   5         194                   80.0           0.0000           0.6250   \n",
       "\n",
       "   percent_atom_in  lattice_vector_1_ang  lattice_vector_2_ang  \\\n",
       "0            0.000                9.9523                8.5513   \n",
       "1            0.000                6.1840                6.1838   \n",
       "2            0.000                9.7510                5.6595   \n",
       "3            0.250                5.0036                5.0034   \n",
       "4            0.375                6.6614                6.6612   \n",
       "\n",
       "   lattice_vector_3_ang  lattice_angle_alpha_degree    ...         cgain  \\\n",
       "0                9.1775                     90.0026    ...      0.000000   \n",
       "1               23.6287                     90.0186    ...      0.000000   \n",
       "2               13.9630                     90.9688    ...      0.000000   \n",
       "3               13.5318                     89.9888    ...      0.000000   \n",
       "4               24.5813                     89.9960    ...     30.715613   \n",
       "\n",
       "      rgain        cgao      rgao      calin     ralin        calo      ralo  \\\n",
       "0       inf  -68.138833  1.955995   0.000000       inf -126.380141  1.953003   \n",
       "1       inf  -74.347543  1.936593   0.000000       inf  -97.805858  1.959401   \n",
       "2       inf  -13.810688  1.869581   0.000000       inf  -57.104462  1.947915   \n",
       "3       inf    0.000000       inf  11.027235  3.316789  -42.805965  2.019747   \n",
       "4  3.556476 -111.422149  2.016436   0.000000       inf    0.000000       inf   \n",
       "\n",
       "        cino      rino  \n",
       "0   0.000000       inf  \n",
       "1   0.000000       inf  \n",
       "2   0.000000       inf  \n",
       "3 -16.121344  2.026801  \n",
       "4 -41.095532  2.195004  \n",
       "\n",
       "[5 rows x 76 columns]"
      ]
     },
     "execution_count": 342,
     "metadata": {},
     "output_type": "execute_result"
    }
   ],
   "source": [
    "train.head()"
   ]
  },
  {
   "cell_type": "code",
   "execution_count": 343,
   "metadata": {},
   "outputs": [
    {
     "data": {
      "text/plain": [
       "Index(['id', 'spacegroup', 'number_of_total_atoms', 'percent_atom_al',\n",
       "       'percent_atom_ga', 'percent_atom_in', 'lattice_vector_1_ang',\n",
       "       'lattice_vector_2_ang', 'lattice_vector_3_ang',\n",
       "       'lattice_angle_alpha_degree', 'lattice_angle_beta_degree',\n",
       "       'lattice_angle_gamma_degree', 'formation_energy_ev_natom',\n",
       "       'bandgap_energy_ev', 'vol', 'n_ga', 'n_al', 'n_in', 'n_o', 'mass_al',\n",
       "       'mass_ga', 'mass_in', 'mass_o', 'density', 'z_al', 'z_ga', 'z_in',\n",
       "       'z_o', 'z_tot', 'r_ene', 'k_ene', 'p_ene', 'eta', 'r_gao_ave',\n",
       "       'r_gao_min', 'r_alo_ave', 'r_alo_min', 'r_ino_ave', 'r_ino_min',\n",
       "       'inv_r_gao_sum', 'inv2_r_gao_sum', 'inv_r_alo_sum', 'inv2_r_alo_sum',\n",
       "       'inv_r_ino_sum', 'inv2_r_ino_sum', 'mass_tot', 'inv2_r_sum',\n",
       "       'inv_r_sum', 'r_min', 'r_mean', 'ngao_mean', 'nalo_mean', 'nino_mean',\n",
       "       'n_mean', 'coul', 'rmean', 'cgaga', 'rgaga', 'calal', 'ralal', 'cinin',\n",
       "       'rinin', 'coo', 'roo', 'cgaal', 'rgaal', 'cgain', 'rgain', 'cgao',\n",
       "       'rgao', 'calin', 'ralin', 'calo', 'ralo', 'cino', 'rino'],\n",
       "      dtype='object')"
      ]
     },
     "execution_count": 343,
     "metadata": {},
     "output_type": "execute_result"
    }
   ],
   "source": [
    "train.columns"
   ]
  },
  {
   "cell_type": "markdown",
   "metadata": {},
   "source": [
    "## Random Forest/Gradient Boosting Regression"
   ]
  },
  {
   "cell_type": "code",
   "execution_count": 345,
   "metadata": {},
   "outputs": [
    {
     "name": "stdout",
     "output_type": "stream",
     "text": [
      "Bandgap features =  ['mass_al', 'mass_ga', 'mass_in', 'mass_tot', 'vol', 'spacegroup', 'percent_atom_al', 'percent_atom_in', 'density', 'z_al', 'z_in', 'z_tot', 'inv_r_alo_sum', 'calo', 'inv_r_ino_sum', 'cino', 'inv2_r_sum', 'r_min', 'rmean', 'nalo_mean', 'nino_mean', 'n_mean', 'coul', 'calal', 'cinin', 'cgaal', 'cgain', 'calin']\n",
      "Formation features =  ['mass_al', 'mass_ga', 'mass_in', 'vol', 'spacegroup', 'percent_atom_ga', 'z_ga', 'inv_r_gao_sum', 'cgao', 'r_min', 'ngao_mean', 'n_mean', 'cgaga', 'calal', 'cinin', 'cgaal', 'cgain', 'bandgap_energy_ev']\n"
     ]
    }
   ],
   "source": [
    "features_bandgap = ['mass_al','mass_ga','mass_in','mass_tot','vol','spacegroup', 'percent_atom_al', 'percent_atom_in','density','z_al','z_in','z_tot','inv_r_alo_sum','calo','inv_r_ino_sum','cino','inv2_r_sum','r_min','rmean','nalo_mean','nino_mean','n_mean',\n",
    "                    'coul','calal','cinin','cgaal','cgain','calin']\n",
    "features_formation = ['mass_al','mass_ga','mass_in','vol','spacegroup', 'percent_atom_ga','z_ga','inv_r_gao_sum','cgao','r_min','ngao_mean','n_mean',\n",
    "                      'cgaga','calal','cinin','cgaal','cgain','bandgap_energy_ev']\n",
    "print('Bandgap features = ', features_bandgap)\n",
    "print('Formation features = ', features_formation)"
   ]
  },
  {
   "cell_type": "markdown",
   "metadata": {},
   "source": [
    "Only features that have high correlation with the bandgap/formation energy are chosen."
   ]
  },
  {
   "cell_type": "code",
   "execution_count": 11,
   "metadata": {
    "collapsed": true
   },
   "outputs": [],
   "source": [
    "def ml_regression(train,test,x_feature,y_feature,model,feature_importance=True):\n",
    "    \n",
    "    x_train = train[x_feature].values\n",
    "    y_train = train[y_feature].values\n",
    "    x_test = test[x_feature].values\n",
    "    \n",
    "    print('Defining RFR model...\\n')\n",
    "\n",
    "    model.fit(x_train,y_train)\n",
    "    score = model.score(x_train,y_train)\n",
    "    print('Training Score = ', score)\n",
    "\n",
    "    # CV score\n",
    "    cv = ShuffleSplit(len(y_train), n_iter=10, test_size=0.1, random_state=0)\n",
    "    cvscore = cross_val_score(model, x_train, y_train, cv=cv, scoring='r2')\n",
    "    print('CV Score = ', cvscore)\n",
    "    print('Mean = ', np.mean(cvscore))\n",
    "    \n",
    "    predict = model.predict(x_test)\n",
    "        \n",
    "    if feature_importance:\n",
    "        importances = pd.DataFrame({'feature':x_feature,'importance':np.round(model.feature_importances_,5)})\n",
    "        importances = importances.sort_values('importance',ascending=False).set_index('feature')\n",
    "        print(importances)\n",
    "        importances.plot.bar()\n",
    "        plt.show()\n",
    "        \n",
    "    return model, predict"
   ]
  },
  {
   "cell_type": "code",
   "execution_count": 328,
   "metadata": {
    "collapsed": true
   },
   "outputs": [],
   "source": [
    "def submission(predict_bandgap,predict_formation):\n",
    "    submission = pd.read_csv('sample_submission.csv')\n",
    "    submission['bandgap_energy_ev'] = predict_bandgap\n",
    "    submission['formation_energy_ev_natom'] = predict_formation\n",
    "    submission.to_csv('submission.csv',index=False)"
   ]
  },
  {
   "cell_type": "code",
   "execution_count": 12,
   "metadata": {
    "collapsed": true
   },
   "outputs": [],
   "source": [
    "def split_train(train,x_feature,y_feature,model):\n",
    "    train_2, test_2 = train_test_split(train ,train_size = 0.8)\n",
    "    x_train_2 = train_2[x_feature].values\n",
    "    y_train_2 = train_2[y_feature].values\n",
    "    x_test_2 = test_2[x_feature].values\n",
    "    y_test_2 = test_2[y_feature].values\n",
    "    model.fit(x_train_2,y_train_2)\n",
    "    predict_2 = model.predict(x_test_2)\n",
    "    plt.scatter(y_test_2,predict_2)\n",
    "    plt.plot([0,train_2[y_feature].values.max()],[0,train_2[y_feature].values.max()],'--')\n",
    "    plt.xlabel('Actual')\n",
    "    plt.ylabel('Predict')\n",
    "    return plt.show()"
   ]
  },
  {
   "cell_type": "code",
   "execution_count": 348,
   "metadata": {},
   "outputs": [
    {
     "name": "stdout",
     "output_type": "stream",
     "text": [
      "Bandap Energy:\n",
      "Defining RFR model...\n",
      "\n",
      "Training Score =  0.992877888706\n",
      "CV Score =  [ 0.95295803  0.95282275  0.95898406  0.94807121  0.93574481  0.95487218\n",
      "  0.96815333  0.93929541  0.9217323   0.96524798]\n",
      "Mean =  0.949788205642\n",
      "                 importance\n",
      "feature                    \n",
      "percent_atom_in     0.53842\n",
      "nalo_mean           0.09617\n",
      "percent_atom_al     0.06653\n",
      "spacegroup          0.06173\n",
      "r_min               0.05373\n",
      "cgain               0.04591\n",
      "vol                 0.03453\n",
      "coul                0.01680\n",
      "inv2_r_sum          0.01006\n",
      "mass_tot            0.00937\n",
      "rmean               0.00664\n",
      "cino                0.00656\n",
      "inv_r_ino_sum       0.00569\n",
      "cgaal               0.00510\n",
      "density             0.00507\n",
      "calo                0.00471\n",
      "z_tot               0.00410\n",
      "nino_mean           0.00383\n",
      "cinin               0.00370\n",
      "calal               0.00355\n",
      "calin               0.00313\n",
      "z_in                0.00305\n",
      "n_mean              0.00294\n",
      "mass_in             0.00250\n",
      "inv_r_alo_sum       0.00225\n",
      "mass_ga             0.00195\n",
      "z_al                0.00102\n",
      "mass_al             0.00096\n"
     ]
    },
    {
     "data": {
      "image/png": "[encoded data removed]",
      "text/plain": [
       "<matplotlib.figure.Figure at 0x7f4a831db978>"
      ]
     },
     "metadata": {},
     "output_type": "display_data"
    },
    {
     "name": "stdout",
     "output_type": "stream",
     "text": [
      "Formation Energy\n",
      "Defining RFR model...\n",
      "\n",
      "Training Score =  0.970850426298\n",
      "CV Score =  [ 0.88184836  0.90577962  0.91129801  0.89087728  0.87324915  0.87026162\n",
      "  0.93568939  0.87690197  0.87094286  0.91896264]\n",
      "Mean =  0.893581089719\n",
      "                   importance\n",
      "feature                      \n",
      "bandgap_energy_ev     0.22634\n",
      "r_min                 0.10788\n",
      "vol                   0.09128\n",
      "calal                 0.08898\n",
      "n_mean                0.07007\n",
      "cgaal                 0.06187\n",
      "cinin                 0.05764\n",
      "cgain                 0.04453\n",
      "mass_al               0.04044\n",
      "spacegroup            0.03533\n",
      "cgao                  0.03307\n",
      "inv_r_gao_sum         0.03191\n",
      "cgaga                 0.02941\n",
      "mass_in               0.02834\n",
      "ngao_mean             0.02337\n",
      "percent_atom_ga       0.01977\n",
      "mass_ga               0.00567\n",
      "z_ga                  0.00411\n"
     ]
    },
    {
     "data": {
      "image/png": "[encoded data removed]",
      "text/plain": [
       "<matplotlib.figure.Figure at 0x7f4a7c40a048>"
      ]
     },
     "metadata": {},
     "output_type": "display_data"
    }
   ],
   "source": [
    "print('Bandap Energy:')\n",
    "model_bandgap, predict_bandgap = ml_regression(train,test,features_bandgap,'bandgap_energy_ev',RandomForestRegressor(n_estimators=1000))\n",
    "#model_bandgap, predict_bandgap = ml_regression(train,test,features_bandgap,'bandgap_energy_ev',GradientBoostingRegressor(n_estimators=100))\n",
    "test['bandgap_energy_ev'] = pd.DataFrame(predict_bandgap)\n",
    "print('Formation Energy')\n",
    "#model_formation, predict_formation = ml_regression(train,test,features_formation,'formation_energy_ev_natom',RandomForestRegressor(n_estimators=100))\n",
    "model_formation, predict_formation = ml_regression(train,test,features_formation,'formation_energy_ev_natom',GradientBoostingRegressor(n_estimators=500))"
   ]
  },
  {
   "cell_type": "markdown",
   "metadata": {},
   "source": [
    "Prediction scores (R2) on Cross-Validation are 95.0% and 89.4% on bandgap and formation energy.\n",
    "Notice Gradient Boosting Regression is used on formation energy prediction, because the Random Forest Regression gives high bias on traning score. Predicted bandgap is used as a feature to predict the formation energy due to their high correlation."
   ]
  },
  {
   "cell_type": "code",
   "execution_count": 331,
   "metadata": {
    "collapsed": true
   },
   "outputs": [],
   "source": [
    "submission(predict_bandgap,predict_formation)"
   ]
  },
  {
   "cell_type": "code",
   "execution_count": 353,
   "metadata": {},
   "outputs": [
    {
     "data": {
      "image/png": "[encoded data removed]",
      "text/plain": [
       "<matplotlib.figure.Figure at 0x7f4a834d57b8>"
      ]
     },
     "metadata": {},
     "output_type": "display_data"
    },
    {
     "data": {
      "image/png": "[encoded data removed]",
      "text/plain": [
       "<matplotlib.figure.Figure at 0x7f4a82f23278>"
      ]
     },
     "metadata": {},
     "output_type": "display_data"
    }
   ],
   "source": [
    "split_train(train,features_bandgap,'bandgap_energy_ev',RandomForestRegressor(n_estimators=1000))\n",
    "split_train(train,features_formation,'formation_energy_ev_natom',GradientBoostingRegressor(n_estimators=500))"
   ]
  },
  {
   "cell_type": "code",
   "execution_count": null,
   "metadata": {
    "collapsed": true
   },
   "outputs": [],
   "source": []
  }
 ],
 "metadata": {
  "kernelspec": {
   "display_name": "Python 3",
   "language": "python",
   "name": "python3"
  },
  "language_info": {
   "codemirror_mode": {
    "name": "ipython",
    "version": 3
   },
   "file_extension": ".py",
   "mimetype": "text/x-python",
   "name": "python",
   "nbconvert_exporter": "python",
   "pygments_lexer": "ipython3",
   "version": "3.6.1"
  }
 },
 "nbformat": 4,
 "nbformat_minor": 2
}
